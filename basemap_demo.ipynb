{
 "cells": [
  {
   "attachments": {},
   "cell_type": "markdown",
   "metadata": {},
   "source": [
    "to install basemap: pip install basemap"
   ]
  },
  {
   "cell_type": "code",
   "execution_count": null,
   "metadata": {},
   "outputs": [],
   "source": [
    "from mpl_toolkits.basemap import Basemap\n",
    "import matplotlib.pyplot as plt\n",
    "import numpy as np\n",
    "import pandas as pd\n"
   ]
  },
  {
   "cell_type": "code",
   "execution_count": null,
   "metadata": {},
   "outputs": [],
   "source": [
    "fig = plt.figure(figsize=(12,9))\n",
    "\n",
    "# world map has a lower left corner of (-180, -90) and an upper right corner of (180, 90)\n",
    "m = Basemap(projection='mill',\n",
    "            llcrnrlon=-180, # X axis for map is longitude\n",
    "            llcrnrlat=-90, # Y axis for map is latitude\n",
    "            urcrnrlon=180, \n",
    "            urcrnrlat=90,\n",
    "            resolution=\"c\") # c-crude, l-low, i-intermediate, h-high, f-full\n",
    "\n",
    "m.drawcoastlines()\n",
    "\n",
    "# # More Borders and things to draw:\n",
    "\n",
    "# m.drawcountries(color=\"red\")\n",
    "# m.drawstates(color=\"blue\")\n",
    "# m.drawcounties(color=\"orange\")\n",
    "# m.drawrivers(color=\"blue\")\n",
    "\n",
    "# m.drawmapboundary(color=\"pink\", linewidth=10, fill_color='aqua')\n",
    "# m.fillcontinents(color=\"limegreen\", lake_color=\"aqua\")\n",
    "\n",
    "# m.drawlsmask(land_color=\"lightgreen\", ocean_color=\"aqua\", lakes=True)\n",
    "\n",
    "\n",
    "\n",
    "# # These are some cool map themes that make the map have a cool background:\n",
    "# m.etopo()\n",
    "# m.bluemarble()\n",
    "# m.shadedrelief()\n",
    "\n",
    "\n",
    "# Drawing Grid lines\n",
    "m.drawparallels(np.arange(-90,90,10), labels=[True, False, False, False]) #latitude lines (draw x-axis lines) label only left side\n",
    "m.drawmeridians(np.arange(-180,180,30), labels=[False, False, False, True]) # longitude Lines (draw y-axis lines) label only bottom\n",
    "# np.arange(start, stop, step)\n",
    "# labels=[left, right, top, bottom]\n",
    "\n",
    "\n",
    "plt.title(\"Basemap Tutorial\")\n",
    "\n",
    "plt.show()"
   ]
  },
  {
   "cell_type": "code",
   "execution_count": null,
   "metadata": {},
   "outputs": [],
   "source": [
    "fig = plt.figure(figsize=(12,9))\n",
    "\n",
    "# world map has a lower left corner of (-180, -90) and an upper right corner of (180, 90)\n",
    "m = Basemap(projection='mill',\n",
    "            llcrnrlon=-180, # X axis for map is longitude\n",
    "            llcrnrlat=-90, # Y axis for map is latitude\n",
    "            urcrnrlon=180, \n",
    "            urcrnrlat=90,\n",
    "            resolution=\"c\") # c-crude, l-low, i-intermediate, h-high, f-full\n",
    "\n",
    "m.drawcoastlines()\n",
    "\n",
    "m.drawparallels(np.arange(-90,90,10), labels=[True, False, False, False]) #latitude lines (draw x-axis lines) label only left side\n",
    "m.drawmeridians(np.arange(-180,180,30), labels=[False, False, False, True]) # longitude Lines (draw y-axis lines) label only bottom\n",
    "\n",
    "# Plot single points\n",
    "m.scatter(-135, 75, latlon=True, s=5000, c='red', marker='^', alpha=.5, edgecolor=\"k\", linewidth=5) # puts a red triangle at the (lon,lat) coordinate\n",
    "m.scatter(-135, 60, latlon=True, s=5000, c='blue', marker='^', alpha=1, edgecolor=\"k\", linewidth=5) # puts a red triangle at the (lon,lat) coordinate\n",
    "\n",
    "# plot multiple points at same time\n",
    "sites_lat_y = [6,-41, 52, 25, 22, 77]\n",
    "sites_lon_x = [102, 145, 1, 122, 121, -51]\n",
    "m.scatter(sites_lon_x, sites_lat_y, latlon=True, s=500, c='red', alpha=1,) # puts a red dot at the given coordinates\n",
    "\n",
    "# #from a csv file\n",
    "# df = pd.read_excel(r'C:\\<filePath>', '<sheetname>')\n",
    "# sites_lat_y=df[\"latitude\"].tolist()\n",
    "# sites_lon_x=df['longitude'].tolist()\n",
    "\n",
    "plt.title(\"Basemap Tutorial\")\n",
    "\n",
    "plt.show()"
   ]
  }
 ],
 "metadata": {
  "kernelspec": {
   "display_name": "Python 3",
   "language": "python",
   "name": "python3"
  },
  "language_info": {
   "codemirror_mode": {
    "name": "ipython",
    "version": 3
   },
   "file_extension": ".py",
   "mimetype": "text/x-python",
   "name": "python",
   "nbconvert_exporter": "python",
   "pygments_lexer": "ipython3",
   "version": "3.10.0"
  },
  "orig_nbformat": 4
 },
 "nbformat": 4,
 "nbformat_minor": 2
}
