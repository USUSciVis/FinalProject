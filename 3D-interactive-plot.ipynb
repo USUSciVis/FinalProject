{
 "cells": [
  {
   "cell_type": "code",
   "execution_count": null,
   "metadata": {},
   "outputs": [],
   "source": [
    "import pyvista as pv\n",
    "import pandas as pd\n",
    "import numpy as np\n",
    "from mpl_toolkits.basemap import Basemap\n",
    "import matplotlib.pyplot as plt\n",
    "import datetime\n",
    "import math\n",
    "import os"
   ]
  },
  {
   "attachments": {},
   "cell_type": "markdown",
   "metadata": {},
   "source": [
    "# Constants Definitions"
   ]
  },
  {
   "cell_type": "code",
   "execution_count": null,
   "metadata": {},
   "outputs": [],
   "source": [
    "CHERNOBYL_COORDS = (30.0927, 51.3870) # (Lon, lat) or (x, y)\n",
    "\n",
    "MAP_SIZE_IN_DEGREES = (100, 50)\n",
    "\n",
    "LOWER_LEFT_X_LON = CHERNOBYL_COORDS[0] - MAP_SIZE_IN_DEGREES[0]/2\n",
    "LOWER_LEFT_Y_LAT = CHERNOBYL_COORDS[1] - MAP_SIZE_IN_DEGREES[1]/2\n",
    "UPPER_RIGHT_X_LON = CHERNOBYL_COORDS[0] + MAP_SIZE_IN_DEGREES[0]/2\n",
    "UPPER_RIGHT_Y_LAT = CHERNOBYL_COORDS[1] + MAP_SIZE_IN_DEGREES[1]/2\n",
    "\n",
    "BOX_WIDTH = 10\n",
    "IMAGE_X = 1550\n",
    "IMAGE_Y = 1200\n",
    "MAP_WIDTH_IN_DEGREES_LON = UPPER_RIGHT_X_LON - LOWER_LEFT_X_LON\n",
    "MAP_HEIGHT_IN_DEGREES_LAT = UPPER_RIGHT_Y_LAT - LOWER_LEFT_Y_LAT"
   ]
  },
  {
   "attachments": {},
   "cell_type": "markdown",
   "metadata": {},
   "source": [
    "# XY Mercator Projection Functions"
   ]
  },
  {
   "cell_type": "code",
   "execution_count": null,
   "metadata": {},
   "outputs": [],
   "source": [
    "def box_bounds(centerx, centery, height):\n",
    "    return (centerx-(BOX_WIDTH/2), centerx+(BOX_WIDTH/2), centery-(BOX_WIDTH/2), centery+(BOX_WIDTH/2), 0 , height)"
   ]
  },
  {
   "cell_type": "code",
   "execution_count": null,
   "metadata": {},
   "outputs": [],
   "source": [
    "def lon_lat_to_x_y_merc(lon, lat):\n",
    "    worldCircumference = (IMAGE_X / MAP_SIZE_IN_DEGREES[0]) * 360\n",
    "    radius = worldCircumference/ (2 * math.pi)\n",
    "\n",
    "    # x = ((lon-LOWER_LEFT_X_LON)/MAP_WIDTH_IN_DEGREES_LON) * IMAGE_X\n",
    "    lonRad = math.radians(lon)\n",
    "    x = radius * (lonRad)\n",
    "    \n",
    "    latRad = math.radians(lat)\n",
    "    y= radius * math.log(math.tan( (math.pi/4) + (latRad / 2) ))\n",
    "\n",
    "    x += worldCircumference/2\n",
    "    y += worldCircumference/2\n",
    "\n",
    "    return  x, y"
   ]
  },
  {
   "cell_type": "code",
   "execution_count": null,
   "metadata": {},
   "outputs": [],
   "source": [
    "def pix_conv(x, y):\n",
    "    xx, yy = lon_lat_to_x_y_merc(LOWER_LEFT_X_LON,LOWER_LEFT_Y_LAT)\n",
    "    return x-xx, y-yy"
   ]
  },
  {
   "attachments": {},
   "cell_type": "markdown",
   "metadata": {},
   "source": [
    "# Chernobyl Map Picture Generation"
   ]
  },
  {
   "cell_type": "code",
   "execution_count": null,
   "metadata": {},
   "outputs": [],
   "source": [
    "def genMap():\n",
    "    fig = plt.figure(frameon=False, figsize=(20,20))\n",
    "\n",
    "    plt.axis(\"off\")\n",
    "\n",
    "    m = Basemap(projection='merc',\n",
    "                llcrnrlat=LOWER_LEFT_Y_LAT,\n",
    "                urcrnrlat=UPPER_RIGHT_Y_LAT,\n",
    "                llcrnrlon=LOWER_LEFT_X_LON,\n",
    "                urcrnrlon=UPPER_RIGHT_X_LON,\n",
    "                lat_ts=20,\n",
    "                resolution='i')\n",
    "  \n",
    "    m.shadedrelief()\n",
    "    m.drawcountries(linewidth=1.2)\n",
    "    \n",
    "    \n",
    "    # Locate Chernobyl\n",
    "    m.scatter(CHERNOBYL_COORDS[0], CHERNOBYL_COORDS[1], latlon=True, s=100, c='red', marker='^', alpha=1) # puts a red triangle at the (lon,lat) coordinate\n",
    "    \n",
    "    if not \"res\" in os.listdir():\n",
    "        os.mkdir(\"res\")\n",
    "    plt.savefig('res/map_merc_section.jpg',bbox_inches='tight',transparent=True, pad_inches=0, )\n",
    "genMap()\n"
   ]
  },
  {
   "attachments": {},
   "cell_type": "markdown",
   "metadata": {},
   "source": [
    "# 3D Render"
   ]
  },
  {
   "cell_type": "code",
   "execution_count": null,
   "metadata": {},
   "outputs": [],
   "source": [
    "def render():\n",
    "    global chernobyl_map\n",
    "    global plotter\n",
    "    global date\n",
    "    global iso\n",
    "\n",
    "    plotter.clear_actors()\n",
    "\n",
    "    plotter.add_mesh(chernobyl_map, rgb=True)\n",
    "    plotter.add_text(f\"{date.month}-{date.day}-{date.year}\")\n",
    "    plotter.add_text(f\"{iso}\", position='lower_left')\n",
    "    sensor_latitudes = []\n",
    "    sensor_longitudes = []\n",
    "    iso_values = []\n",
    "\n",
    "    if date.day >=10:\n",
    "        strdate = f\"{date.year}-0{date.month}-{date.day}\"\n",
    "    else:\n",
    "        strdate = f\"{date.year}-0{date.month}-0{date.day}\"\n",
    "\n",
    "    for lon, lat, value in data[data.date == strdate].filter(['X','Y', iso]).drop_duplicates().values:\n",
    "        sensor_longitudes.append(lon)\n",
    "        sensor_latitudes.append(lat)\n",
    "        iso_values.append(float(value))\n",
    "\n",
    "    block = pv.MultiBlock()\n",
    "    for i in range(len(sensor_latitudes)):\n",
    "        x, y = lon_lat_to_x_y_merc(sensor_longitudes[i], sensor_latitudes[i])\n",
    "        x, y = pix_conv(x, y)\n",
    "\n",
    "        if x<0 or y < 0:\n",
    "            continue\n",
    "\n",
    "        bound = box_bounds(x, y, iso_values[i]*5)\n",
    "        box = pv.Box(bound)\n",
    "        box[\"concentration_value\"] = [iso_values[i] for _ in range(box.n_cells)]\n",
    "\n",
    "        block.append(box)\n",
    "\n",
    "\n",
    "    plotter.add_mesh(block.combine(), color=\"r\", show_edges=True, scalars=\"concentration_value\")\n",
    "\n",
    "def date_slider(value, slider):\n",
    "    global iso\n",
    "    global date\n",
    "   \n",
    "    date = datetime.date(1986, 4, 27) + datetime.timedelta(days=int(value))\n",
    "    slider.GetSliderRepresentation().SetValue(int(value))\n",
    "\n",
    "    render()\n",
    "    \n",
    "def iso_slider(value, slider):\n",
    "    global iso\n",
    "\n",
    "    value = round(value, None)\n",
    "    \n",
    "    if value == 1:\n",
    "        iso = \"I_131_(Bq/m3)\"\n",
    "    elif value == 2:\n",
    "        iso = \"Cs_134_(Bq/m3)\"\n",
    "    else:\n",
    "        iso = \"Cs_137_(Bq/m3)\"\n",
    "\n",
    "    slider.GetSliderRepresentation().SetValue(value)\n",
    "\n",
    "\n",
    "    render()"
   ]
  },
  {
   "cell_type": "code",
   "execution_count": null,
   "metadata": {},
   "outputs": [],
   "source": [
    "plotter = pv.Plotter(notebook=False)\n",
    "date_range = [0,35]\n",
    "\n",
    "data = pd.read_csv(\"data/cleaned.csv\")\n",
    "\n",
    "date = datetime.date(1986, 4, 27)\n",
    "iso = \"I_131_(Bq/m3)\"\n",
    "\n",
    "\n",
    "plotter.add_slider_widget(date_slider, date_range, value = 0, fmt=\"%2.0f\", pointa=(0.4, .9), pointb=(0.9, .9), title=\"Day\", pass_widget=True)\n",
    "plotter.add_slider_widget(iso_slider, [1,3], value = 1, fmt=\"%2.1f\", pointa=(0.4, .75), pointb=(0.9, .75), pass_widget=True, title=\"Isotope\")\n",
    "\n",
    "\n",
    "chernobyl_map: pv.UniformGrid = pv.read(\"res/map_merc_section.jpg\")\n",
    "\n",
    "IMAGE_X = int(chernobyl_map.bounds[1])\n",
    "IMAGE_Y = int(chernobyl_map.bounds[3])\n",
    "\n",
    "render()\n",
    "\n",
    "plotter.show()"
   ]
  }
 ],
 "metadata": {
  "kernelspec": {
   "display_name": "Python 3",
   "language": "python",
   "name": "python3"
  },
  "language_info": {
   "codemirror_mode": {
    "name": "ipython",
    "version": 3
   },
   "file_extension": ".py",
   "mimetype": "text/x-python",
   "name": "python",
   "nbconvert_exporter": "python",
   "pygments_lexer": "ipython3",
   "version": "3.11.2"
  },
  "orig_nbformat": 4
 },
 "nbformat": 4,
 "nbformat_minor": 2
}
