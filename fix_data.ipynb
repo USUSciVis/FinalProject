{
 "cells": [
  {
   "cell_type": "code",
   "execution_count": 2,
   "metadata": {},
   "outputs": [],
   "source": [
    "import pandas as pd\n",
    "\n",
    "VAL_Y = 39.46\n",
    "VAL_X = -0.37\n",
    "\n",
    "VAE_X = 10.95\n",
    "VAE_Y = 63.45\n",
    "\n",
    "\n",
    "\n",
    "\n",
    "data = pd.read_csv(\"data/archive/data.csv\")\n",
    "\n",
    "VALENCIA = (data[\"PAYS\"] == \"ES\") & (data[\"Ville\"] == \"VALENCIA\")\n",
    "VAERNES = (data[\"PAYS\"] == \"NO\") & (data[\"Ville\"] == \"VAERNES\")\n",
    "\n",
    "val = data[VALENCIA].copy()\n",
    "val[\"X\"] = VAL_X\n",
    "val[\"Y\"] = VAL_Y\n",
    "\n",
    "vae = data[VAERNES].copy()\n",
    "vae[\"X\"] = VAE_X\n",
    "vae[\"Y\"] = VAE_Y\n",
    "\n",
    "\n",
    "data[VALENCIA] = val\n",
    "data[VAERNES] = vae\n",
    "\n",
    "\n",
    "data.to_csv(\"data/archive/data1.csv\", index=False)"
   ]
  }
 ],
 "metadata": {
  "kernelspec": {
   "display_name": "Python 3",
   "language": "python",
   "name": "python3"
  },
  "language_info": {
   "codemirror_mode": {
    "name": "ipython",
    "version": 3
   },
   "file_extension": ".py",
   "mimetype": "text/x-python",
   "name": "python",
   "nbconvert_exporter": "python",
   "pygments_lexer": "ipython3",
   "version": "3.11.0"
  },
  "orig_nbformat": 4
 },
 "nbformat": 4,
 "nbformat_minor": 2
}
