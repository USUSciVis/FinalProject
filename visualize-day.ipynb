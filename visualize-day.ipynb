{
 "cells": [
  {
   "cell_type": "code",
   "execution_count": null,
   "metadata": {},
   "outputs": [],
   "source": [
    "from mpl_toolkits.basemap import Basemap\n",
    "import matplotlib.pyplot as plt\n",
    "import numpy as np\n",
    "import pandas as pd\n",
    "import ipywidgets as widgets\n",
    "import datetime"
   ]
  },
  {
   "cell_type": "code",
   "execution_count": null,
   "metadata": {},
   "outputs": [],
   "source": [
    "chernobyl_coords = (30.0927, 51.3870) # (Lon, lat) or (x, y)\n",
    "\n",
    "MAP_SIZE_IN_DEGREES = (100, 50)\n",
    "\n",
    "LOWER_LEFT_X_LON = chernobyl_coords[0] - MAP_SIZE_IN_DEGREES[0]/2\n",
    "LOWER_LEFT_Y_LAT = chernobyl_coords[1] - MAP_SIZE_IN_DEGREES[1]/2\n",
    "UPPER_LEFT_X_LON = chernobyl_coords[0] + MAP_SIZE_IN_DEGREES[0]/2\n",
    "UPPER_LEFT_Y_LAT = chernobyl_coords[1] + MAP_SIZE_IN_DEGREES[1]/2\n",
    "\n"
   ]
  },
  {
   "cell_type": "code",
   "execution_count": null,
   "metadata": {},
   "outputs": [],
   "source": [
    "fig = plt.figure(figsize=(12,9))\n",
    "\n",
    "# world map has a lower left corner of (-180, -90) and an upper right corner of (180, 90)\n",
    "m = Basemap(projection='mill',\n",
    "            llcrnrlon=LOWER_LEFT_X_LON, # X axis for map is longitude\n",
    "            llcrnrlat=LOWER_LEFT_Y_LAT, # Y axis for map is latitude\n",
    "            urcrnrlon=UPPER_LEFT_X_LON, \n",
    "            urcrnrlat=UPPER_LEFT_Y_LAT,\n",
    "            resolution=\"i\") # c-crude, l-low, i-intermediate, h-high, f-full\n",
    "\n",
    "m.shadedrelief() # makes it look pretty :)\n",
    "m.drawcountries(linewidth=1.2)\n",
    "\n",
    "# Locate Chernobyl\n",
    "m.scatter(chernobyl_coords[0], chernobyl_coords[1], latlon=True, s=100, c='red', marker='^', alpha=1) # puts a red triangle at the (lon,lat) coordinate\n",
    "\n",
    "plt.show()"
   ]
  },
  {
   "cell_type": "code",
   "execution_count": null,
   "metadata": {},
   "outputs": [],
   "source": [
    "sensor_latitudes = []\n",
    "sensor_longitudes = []\n",
    "\n",
    "data = pd.read_csv(\"data/archive/data1.csv\")\n",
    "\n",
    "for lon, lat, ville in data.filter(['X','Y', \"Ville\"]).drop_duplicates().values:\n",
    "    print(lon, lat, ville)\n",
    "    sensor_longitudes.append(lon)\n",
    "    sensor_latitudes.append(lat)\n",
    "\n",
    "\n",
    "assert len(sensor_latitudes) == len(sensor_longitudes) and len(sensor_latitudes) > 50"
   ]
  },
  {
   "cell_type": "code",
   "execution_count": null,
   "metadata": {},
   "outputs": [],
   "source": [
    "fig = plt.figure(figsize=(12,9))\n",
    "\n",
    "# world map has a lower left corner of (-180, -90) and an upper right corner of (180, 90)\n",
    "m = Basemap(projection='mill',\n",
    "            llcrnrlon=LOWER_LEFT_X_LON, # X axis for map is longitude\n",
    "            llcrnrlat=LOWER_LEFT_Y_LAT, # Y axis for map is latitude\n",
    "            urcrnrlon=UPPER_LEFT_X_LON, \n",
    "            urcrnrlat=UPPER_LEFT_Y_LAT,\n",
    "            resolution=\"i\") # c-crude, l-low, i-intermediate, h-high, f-full\n",
    "\n",
    "m.shadedrelief() # makes it look pretty :)\n",
    "m.drawcountries(linewidth=1.2)\n",
    "m.drawrivers(color=\"lightblue\")\n",
    "\n",
    "# Locate Chernobyl\n",
    "m.scatter(chernobyl_coords[0], chernobyl_coords[1], latlon=True, s=100, c='red', marker='^', alpha=1) # puts a red triangle at the (lon,lat) coordinate\n",
    "\n",
    "#Locate Each Sensor:\n",
    "m.scatter(sensor_longitudes, sensor_latitudes, latlon=True, s=100, c='blue', marker='^', alpha=1) \n",
    "\n",
    "\n",
    "\n",
    "plt.show()"
   ]
  },
  {
   "cell_type": "code",
   "execution_count": null,
   "metadata": {},
   "outputs": [],
   "source": [
    "# data = pd.read_csv(\"data/archive/data1.csv\")\n",
    "def create_map(date):\n",
    "    sensor_latitudes = []\n",
    "    sensor_longitudes = []\n",
    "\n",
    "\n",
    "    selected_date = date.strftime(\"%y\") + \"/\" + date.strftime(\"%m\") + \"/\" + date.strftime(\"%d\")\n",
    "\n",
    "    for lon, lat, ville in data[data.Date == selected_date].filter(['X','Y', \"Ville\"]).drop_duplicates().values:\n",
    "        # print(lon, lat, ville)\n",
    "        sensor_longitudes.append(lon)\n",
    "        sensor_latitudes.append(lat)\n",
    "\n",
    "\n",
    "    # assert len(sensor_latitudes) == len(sensor_longitudes) and len(sensor_latitudes) > 50\n",
    "    fig = plt.figure(figsize=(12,9))\n",
    "\n",
    "    # world map has a lower left corner of (-180, -90) and an upper right corner of (180, 90)\n",
    "    m = Basemap(projection='mill',\n",
    "                llcrnrlon=LOWER_LEFT_X_LON, # X axis for map is longitude\n",
    "                llcrnrlat=LOWER_LEFT_Y_LAT, # Y axis for map is latitude\n",
    "                urcrnrlon=UPPER_LEFT_X_LON,\n",
    "                urcrnrlat=UPPER_LEFT_Y_LAT,\n",
    "                resolution=\"i\") # c-crude, l-low, i-intermediate, h-high, f-full\n",
    "\n",
    "    m.shadedrelief() # makes it look pretty :)\n",
    "    m.drawcountries(linewidth=1.2)\n",
    "\n",
    "    # Locate Chernobyl\n",
    "    m.scatter(chernobyl_coords[0], chernobyl_coords[1], latlon=True, s=100, c='red', marker='^', alpha=1) # puts a red triangle at the (lon,lat) coordinate\n",
    "\n",
    "    #Locate Each Sensor:\n",
    "    m.scatter(sensor_longitudes, sensor_latitudes, latlon=True, s=100, c='blue', marker='^', alpha=1) \n",
    "    \n",
    "    plt.show()"
   ]
  },
  {
   "cell_type": "code",
   "execution_count": null,
   "metadata": {},
   "outputs": [],
   "source": [
    "date_widget = widgets.DatePicker()\n",
    "date_widget.value = datetime.date(1986, 4, 27)\n",
    "ui = widgets.HBox([date_widget])\n",
    "out = widgets.interactive_output(create_map, {'date': date_widget})\n",
    "display(ui, out)"
   ]
  }
 ],
 "metadata": {
  "kernelspec": {
   "display_name": "Python 3",
   "language": "python",
   "name": "python3"
  },
  "language_info": {
   "codemirror_mode": {
    "name": "ipython",
    "version": 3
   },
   "file_extension": ".py",
   "mimetype": "text/x-python",
   "name": "python",
   "nbconvert_exporter": "python",
   "pygments_lexer": "ipython3",
   "version": "3.11.2"
  },
  "orig_nbformat": 4
 },
 "nbformat": 4,
 "nbformat_minor": 2
}
